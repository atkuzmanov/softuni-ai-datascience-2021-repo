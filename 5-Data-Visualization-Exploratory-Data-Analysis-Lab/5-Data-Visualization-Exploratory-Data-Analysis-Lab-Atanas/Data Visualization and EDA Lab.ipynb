{
 "cells": [
  {
   "cell_type": "code",
   "execution_count": 1,
   "metadata": {},
   "outputs": [],
   "source": [
    "%matplotlib inline"
   ]
  },
  {
   "cell_type": "code",
   "execution_count": 2,
   "metadata": {},
   "outputs": [],
   "source": [
    "import pandas as pd\n",
    "import matplotlib.pyplot as plt\n",
    "import nose.tools\n",
    "# Write your imports here"
   ]
  },
  {
   "cell_type": "markdown",
   "metadata": {},
   "source": [
    "# Data Visualization and Exploratory Data Analysis Lab\n",
    "## Visualizing and exploring data. Data mining process as a whole"
   ]
  },
  {
   "cell_type": "markdown",
   "metadata": {},
   "source": [
    "### Problem 1. Read the dataset (1 point)\n",
    "You'll be exploring data about people's income. Your task is to understand whether there are significant differences in the lifestyle of lower- vs. higher-income groups.\n",
    "\n",
    "Read the dataset located [here](https://archive.ics.uci.edu/ml/machine-learning-databases/adult/adult.data). The information file is [here](https://archive.ics.uci.edu/ml/machine-learning-databases/adult/adult.names). Save it into the variable `income_data`. Change the column names to what you like. The last column is related to the income class.\n",
    "\n",
    "Get acquainted with the information file well before starting work.\n",
    "\n",
    "You don't need to clean the dataset."
   ]
  },
  {
   "cell_type": "code",
   "execution_count": 27,
   "metadata": {
    "deletable": false,
    "nbgrader": {
     "checksum": "1100e6bb30ef5be00db508ca1f24d75c",
     "grade": false,
     "grade_id": "read-dataset",
     "locked": false,
     "schema_version": 1,
     "solution": true
    }
   },
   "outputs": [],
   "source": [
    "income_data = pd.read_csv(\n",
    "    filepath_or_buffer='./data/adult.data',\n",
    "    header=None,\n",
    "    sep=',\\s',\n",
    "    engine='python')\n",
    "\n",
    "income_data.columns = [\n",
    "    \"age\",\n",
    "    \"work_class\",\n",
    "    \"fnlwgt\",\n",
    "    \"education\",\n",
    "    \"education_num\",\n",
    "    \"marital_status\",\n",
    "    \"occupation\",\n",
    "    \"relationship\",\n",
    "    \"race\",\n",
    "    \"sex\",\n",
    "    \"capital_gain\",\n",
    "    \"capital_loss\",\n",
    "    \"hours_weekly\",\n",
    "    \"native_country\",\n",
    "    \"salary\"\n",
    "]"
   ]
  },
  {
   "cell_type": "code",
   "execution_count": 28,
   "metadata": {},
   "outputs": [
    {
     "data": {
      "text/html": [
       "<div>\n",
       "<style scoped>\n",
       "    .dataframe tbody tr th:only-of-type {\n",
       "        vertical-align: middle;\n",
       "    }\n",
       "\n",
       "    .dataframe tbody tr th {\n",
       "        vertical-align: top;\n",
       "    }\n",
       "\n",
       "    .dataframe thead th {\n",
       "        text-align: right;\n",
       "    }\n",
       "</style>\n",
       "<table border=\"1\" class=\"dataframe\">\n",
       "  <thead>\n",
       "    <tr style=\"text-align: right;\">\n",
       "      <th></th>\n",
       "      <th>age</th>\n",
       "      <th>work_class</th>\n",
       "      <th>fnlwgt</th>\n",
       "      <th>education</th>\n",
       "      <th>education_num</th>\n",
       "      <th>marital_status</th>\n",
       "      <th>occupation</th>\n",
       "      <th>relationship</th>\n",
       "      <th>race</th>\n",
       "      <th>sex</th>\n",
       "      <th>capital_gain</th>\n",
       "      <th>capital_loss</th>\n",
       "      <th>hours_weekly</th>\n",
       "      <th>native_country</th>\n",
       "      <th>salary</th>\n",
       "    </tr>\n",
       "  </thead>\n",
       "  <tbody>\n",
       "    <tr>\n",
       "      <th>0</th>\n",
       "      <td>39</td>\n",
       "      <td>State-gov</td>\n",
       "      <td>77516</td>\n",
       "      <td>Bachelors</td>\n",
       "      <td>13</td>\n",
       "      <td>Never-married</td>\n",
       "      <td>Adm-clerical</td>\n",
       "      <td>Not-in-family</td>\n",
       "      <td>White</td>\n",
       "      <td>Male</td>\n",
       "      <td>2174</td>\n",
       "      <td>0</td>\n",
       "      <td>40</td>\n",
       "      <td>United-States</td>\n",
       "      <td>&lt;=50K</td>\n",
       "    </tr>\n",
       "    <tr>\n",
       "      <th>1</th>\n",
       "      <td>50</td>\n",
       "      <td>Self-emp-not-inc</td>\n",
       "      <td>83311</td>\n",
       "      <td>Bachelors</td>\n",
       "      <td>13</td>\n",
       "      <td>Married-civ-spouse</td>\n",
       "      <td>Exec-managerial</td>\n",
       "      <td>Husband</td>\n",
       "      <td>White</td>\n",
       "      <td>Male</td>\n",
       "      <td>0</td>\n",
       "      <td>0</td>\n",
       "      <td>13</td>\n",
       "      <td>United-States</td>\n",
       "      <td>&lt;=50K</td>\n",
       "    </tr>\n",
       "    <tr>\n",
       "      <th>2</th>\n",
       "      <td>38</td>\n",
       "      <td>Private</td>\n",
       "      <td>215646</td>\n",
       "      <td>HS-grad</td>\n",
       "      <td>9</td>\n",
       "      <td>Divorced</td>\n",
       "      <td>Handlers-cleaners</td>\n",
       "      <td>Not-in-family</td>\n",
       "      <td>White</td>\n",
       "      <td>Male</td>\n",
       "      <td>0</td>\n",
       "      <td>0</td>\n",
       "      <td>40</td>\n",
       "      <td>United-States</td>\n",
       "      <td>&lt;=50K</td>\n",
       "    </tr>\n",
       "    <tr>\n",
       "      <th>3</th>\n",
       "      <td>53</td>\n",
       "      <td>Private</td>\n",
       "      <td>234721</td>\n",
       "      <td>11th</td>\n",
       "      <td>7</td>\n",
       "      <td>Married-civ-spouse</td>\n",
       "      <td>Handlers-cleaners</td>\n",
       "      <td>Husband</td>\n",
       "      <td>Black</td>\n",
       "      <td>Male</td>\n",
       "      <td>0</td>\n",
       "      <td>0</td>\n",
       "      <td>40</td>\n",
       "      <td>United-States</td>\n",
       "      <td>&lt;=50K</td>\n",
       "    </tr>\n",
       "    <tr>\n",
       "      <th>4</th>\n",
       "      <td>28</td>\n",
       "      <td>Private</td>\n",
       "      <td>338409</td>\n",
       "      <td>Bachelors</td>\n",
       "      <td>13</td>\n",
       "      <td>Married-civ-spouse</td>\n",
       "      <td>Prof-specialty</td>\n",
       "      <td>Wife</td>\n",
       "      <td>Black</td>\n",
       "      <td>Female</td>\n",
       "      <td>0</td>\n",
       "      <td>0</td>\n",
       "      <td>40</td>\n",
       "      <td>Cuba</td>\n",
       "      <td>&lt;=50K</td>\n",
       "    </tr>\n",
       "    <tr>\n",
       "      <th>...</th>\n",
       "      <td>...</td>\n",
       "      <td>...</td>\n",
       "      <td>...</td>\n",
       "      <td>...</td>\n",
       "      <td>...</td>\n",
       "      <td>...</td>\n",
       "      <td>...</td>\n",
       "      <td>...</td>\n",
       "      <td>...</td>\n",
       "      <td>...</td>\n",
       "      <td>...</td>\n",
       "      <td>...</td>\n",
       "      <td>...</td>\n",
       "      <td>...</td>\n",
       "      <td>...</td>\n",
       "    </tr>\n",
       "    <tr>\n",
       "      <th>32556</th>\n",
       "      <td>27</td>\n",
       "      <td>Private</td>\n",
       "      <td>257302</td>\n",
       "      <td>Assoc-acdm</td>\n",
       "      <td>12</td>\n",
       "      <td>Married-civ-spouse</td>\n",
       "      <td>Tech-support</td>\n",
       "      <td>Wife</td>\n",
       "      <td>White</td>\n",
       "      <td>Female</td>\n",
       "      <td>0</td>\n",
       "      <td>0</td>\n",
       "      <td>38</td>\n",
       "      <td>United-States</td>\n",
       "      <td>&lt;=50K</td>\n",
       "    </tr>\n",
       "    <tr>\n",
       "      <th>32557</th>\n",
       "      <td>40</td>\n",
       "      <td>Private</td>\n",
       "      <td>154374</td>\n",
       "      <td>HS-grad</td>\n",
       "      <td>9</td>\n",
       "      <td>Married-civ-spouse</td>\n",
       "      <td>Machine-op-inspct</td>\n",
       "      <td>Husband</td>\n",
       "      <td>White</td>\n",
       "      <td>Male</td>\n",
       "      <td>0</td>\n",
       "      <td>0</td>\n",
       "      <td>40</td>\n",
       "      <td>United-States</td>\n",
       "      <td>&gt;50K</td>\n",
       "    </tr>\n",
       "    <tr>\n",
       "      <th>32558</th>\n",
       "      <td>58</td>\n",
       "      <td>Private</td>\n",
       "      <td>151910</td>\n",
       "      <td>HS-grad</td>\n",
       "      <td>9</td>\n",
       "      <td>Widowed</td>\n",
       "      <td>Adm-clerical</td>\n",
       "      <td>Unmarried</td>\n",
       "      <td>White</td>\n",
       "      <td>Female</td>\n",
       "      <td>0</td>\n",
       "      <td>0</td>\n",
       "      <td>40</td>\n",
       "      <td>United-States</td>\n",
       "      <td>&lt;=50K</td>\n",
       "    </tr>\n",
       "    <tr>\n",
       "      <th>32559</th>\n",
       "      <td>22</td>\n",
       "      <td>Private</td>\n",
       "      <td>201490</td>\n",
       "      <td>HS-grad</td>\n",
       "      <td>9</td>\n",
       "      <td>Never-married</td>\n",
       "      <td>Adm-clerical</td>\n",
       "      <td>Own-child</td>\n",
       "      <td>White</td>\n",
       "      <td>Male</td>\n",
       "      <td>0</td>\n",
       "      <td>0</td>\n",
       "      <td>20</td>\n",
       "      <td>United-States</td>\n",
       "      <td>&lt;=50K</td>\n",
       "    </tr>\n",
       "    <tr>\n",
       "      <th>32560</th>\n",
       "      <td>52</td>\n",
       "      <td>Self-emp-inc</td>\n",
       "      <td>287927</td>\n",
       "      <td>HS-grad</td>\n",
       "      <td>9</td>\n",
       "      <td>Married-civ-spouse</td>\n",
       "      <td>Exec-managerial</td>\n",
       "      <td>Wife</td>\n",
       "      <td>White</td>\n",
       "      <td>Female</td>\n",
       "      <td>15024</td>\n",
       "      <td>0</td>\n",
       "      <td>40</td>\n",
       "      <td>United-States</td>\n",
       "      <td>&gt;50K</td>\n",
       "    </tr>\n",
       "  </tbody>\n",
       "</table>\n",
       "<p>32561 rows × 15 columns</p>\n",
       "</div>"
      ],
      "text/plain": [
       "       age        work_class  fnlwgt   education  education_num  \\\n",
       "0       39         State-gov   77516   Bachelors             13   \n",
       "1       50  Self-emp-not-inc   83311   Bachelors             13   \n",
       "2       38           Private  215646     HS-grad              9   \n",
       "3       53           Private  234721        11th              7   \n",
       "4       28           Private  338409   Bachelors             13   \n",
       "...    ...               ...     ...         ...            ...   \n",
       "32556   27           Private  257302  Assoc-acdm             12   \n",
       "32557   40           Private  154374     HS-grad              9   \n",
       "32558   58           Private  151910     HS-grad              9   \n",
       "32559   22           Private  201490     HS-grad              9   \n",
       "32560   52      Self-emp-inc  287927     HS-grad              9   \n",
       "\n",
       "           marital_status         occupation   relationship   race     sex  \\\n",
       "0           Never-married       Adm-clerical  Not-in-family  White    Male   \n",
       "1      Married-civ-spouse    Exec-managerial        Husband  White    Male   \n",
       "2                Divorced  Handlers-cleaners  Not-in-family  White    Male   \n",
       "3      Married-civ-spouse  Handlers-cleaners        Husband  Black    Male   \n",
       "4      Married-civ-spouse     Prof-specialty           Wife  Black  Female   \n",
       "...                   ...                ...            ...    ...     ...   \n",
       "32556  Married-civ-spouse       Tech-support           Wife  White  Female   \n",
       "32557  Married-civ-spouse  Machine-op-inspct        Husband  White    Male   \n",
       "32558             Widowed       Adm-clerical      Unmarried  White  Female   \n",
       "32559       Never-married       Adm-clerical      Own-child  White    Male   \n",
       "32560  Married-civ-spouse    Exec-managerial           Wife  White  Female   \n",
       "\n",
       "       capital_gain  capital_loss  hours_weekly native_country salary  \n",
       "0              2174             0            40  United-States  <=50K  \n",
       "1                 0             0            13  United-States  <=50K  \n",
       "2                 0             0            40  United-States  <=50K  \n",
       "3                 0             0            40  United-States  <=50K  \n",
       "4                 0             0            40           Cuba  <=50K  \n",
       "...             ...           ...           ...            ...    ...  \n",
       "32556             0             0            38  United-States  <=50K  \n",
       "32557             0             0            40  United-States   >50K  \n",
       "32558             0             0            40  United-States  <=50K  \n",
       "32559             0             0            20  United-States  <=50K  \n",
       "32560         15024             0            40  United-States   >50K  \n",
       "\n",
       "[32561 rows x 15 columns]"
      ]
     },
     "execution_count": 28,
     "metadata": {},
     "output_type": "execute_result"
    }
   ],
   "source": [
    "income_data"
   ]
  },
  {
   "cell_type": "code",
   "execution_count": 63,
   "metadata": {
    "deletable": false,
    "editable": false,
    "nbgrader": {
     "checksum": "6f1acd92663c630ea7be4ae6a4f4b1a3",
     "grade": true,
     "grade_id": "read-dataset-tests",
     "locked": true,
     "points": 1,
     "schema_version": 1,
     "solution": false
    }
   },
   "outputs": [],
   "source": [
    "nose.tools.assert_is_not_none(income_data)"
   ]
  },
  {
   "cell_type": "markdown",
   "metadata": {},
   "source": [
    "### Problem 2. High income (1 point)\n",
    "How many people have high income (over 50 000 USD per year)? Write a function to return the value. The function should accept the dataframe as a parameter. Work with that parameter."
   ]
  },
  {
   "cell_type": "code",
   "execution_count": 43,
   "metadata": {
    "deletable": false,
    "nbgrader": {
     "checksum": "2e3a3eb52f23b84701cddd0c71c1a443",
     "grade": false,
     "grade_id": "high-income",
     "locked": false,
     "schema_version": 1,
     "solution": true
    }
   },
   "outputs": [
    {
     "data": {
      "text/plain": [
       "7841"
      ]
     },
     "execution_count": 43,
     "metadata": {},
     "output_type": "execute_result"
    }
   ],
   "source": [
    "def get_num_people_with_high_income(dataframe):\n",
    "#     return dataframe[dataframe.salary == \">50K\"].shape[0]\n",
    "#     return dataframe[dataframe.salary == \">50K\"].salary.count()\n",
    "#     return dataframe[dataframe.salary == \">50K\"].count()[14]\n",
    "    return dataframe[dataframe[\"salary\"].str.contains(\">50K\")].count()[14]\n",
    "\n",
    "get_num_people_with_high_income(income_data)"
   ]
  },
  {
   "cell_type": "code",
   "execution_count": 64,
   "metadata": {
    "deletable": false,
    "editable": false,
    "nbgrader": {
     "checksum": "e6284216dc88e4a433035553084c42ab",
     "grade": true,
     "grade_id": "high-income-tests",
     "locked": true,
     "points": 1,
     "schema_version": 1,
     "solution": false
    }
   },
   "outputs": [],
   "source": [
    "# This cell contains hidden tests"
   ]
  },
  {
   "cell_type": "markdown",
   "metadata": {},
   "source": [
    "### Problem 3. Capital gain: thresholding (1 point)\n",
    "Plot a histogram of the capital gain. You can see that there are many people with relatively low gains and a few people - with very high gains."
   ]
  },
  {
   "cell_type": "code",
   "execution_count": 55,
   "metadata": {
    "deletable": false,
    "nbgrader": {
     "checksum": "5c1843e15f32b6f2a8ba19bd9f237a43",
     "grade": false,
     "grade_id": "high-gain",
     "locked": false,
     "schema_version": 1,
     "solution": true
    }
   },
   "outputs": [
    {
     "data": {
      "image/png": "[encoded data removed]",
      "text/plain": [
       "<Figure size 432x288 with 1 Axes>"
      ]
     },
     "metadata": {
      "needs_background": "light"
     },
     "output_type": "display_data"
    }
   ],
   "source": [
    "plt.hist(income_data.capital_gain, bins = 20)\n",
    "plt.title(\"Capital gain vs. No. of people\")\n",
    "plt.xlabel(\"No. of people\")\n",
    "plt.ylabel(\"Capital gain\")\n",
    "plt.xlim(0)\n",
    "plt.ylim(0)\n",
    "plt.show()"
   ]
  },
  {
   "cell_type": "markdown",
   "metadata": {},
   "source": [
    "Write a function which accepts a dataframe and a capital gain value (in USD) and returns how many people are there with **greater than or equal to** that threshold gain."
   ]
  },
  {
   "cell_type": "code",
   "execution_count": 61,
   "metadata": {
    "deletable": false,
    "nbgrader": {
     "checksum": "1a4b91174558f18a2c8aa05349124a42",
     "grade": false,
     "grade_id": "high-gain-fn",
     "locked": false,
     "schema_version": 1,
     "solution": true
    }
   },
   "outputs": [
    {
     "data": {
      "text/plain": [
       "159"
      ]
     },
     "execution_count": 61,
     "metadata": {},
     "output_type": "execute_result"
    }
   ],
   "source": [
    "def get_num_people_with_higher_gain(dataframe, threshold_gain):\n",
    "    return dataframe[dataframe.capital_gain >= threshold_gain].capital_gain.count()\n",
    "\n",
    "get_num_people_with_higher_gain(income_data, 60000)"
   ]
  },
  {
   "cell_type": "code",
   "execution_count": 62,
   "metadata": {
    "deletable": false,
    "editable": false,
    "nbgrader": {
     "checksum": "f95e3ca5c5cf7af82ba098cc4505060b",
     "grade": true,
     "grade_id": "high-gain-tests",
     "locked": true,
     "points": 1,
     "schema_version": 1,
     "solution": false
    }
   },
   "outputs": [],
   "source": [
    "nose.tools.assert_equal(get_num_people_with_higher_gain(income_data, 60000), 159)"
   ]
  },
  {
   "cell_type": "markdown",
   "metadata": {},
   "source": [
    "Create a pie chart of the number of people by marital status."
   ]
  },
  {
   "cell_type": "code",
   "execution_count": 70,
   "metadata": {},
   "outputs": [
    {
     "data": {
      "text/plain": [
       "{'Divorced': [2, 19, 24, 28, 32, 47, 53, 54, 64, 66, 84, 85, 91, 92, 98, 129, 134, 149, 150, 154, 158, 160, 162, 165, 181, 186, 187, 190, 196, 204, 207, 216, 221, 226, 229, 231, 233, 244, 259, 260, 274, 282, 283, 287, 291, 296, 299, 305, 313, 322, 347, 363, 368, 369, 378, 380, 381, 383, 396, 403, 410, 412, 415, 419, 423, 441, 466, 474, 488, 491, 493, 495, 503, 509, 514, 522, 524, 527, 530, 550, 554, 569, 577, 589, 602, 610, 640, 646, 665, 670, 685, 704, 705, 711, 714, 731, 762, 768, 772, 775, ...], 'Married-AF-spouse': [37, 1987, 2887, 3034, 3787, 8045, 8454, 11481, 11918, 13034, 14138, 15365, 16984, 18074, 18895, 23501, 25130, 25386, 27035, 27075, 27228, 29626, 29889], 'Married-civ-spouse': [1, 3, 4, 5, 7, 9, 10, 11, 14, 15, 18, 20, 22, 23, 25, 27, 29, 33, 34, 38, 39, 40, 41, 42, 45, 46, 48, 50, 52, 55, 56, 57, 58, 59, 60, 62, 63, 65, 67, 68, 72, 74, 76, 77, 79, 81, 82, 83, 86, 87, 90, 93, 94, 96, 97, 100, 101, 105, 109, 111, 112, 113, 115, 116, 117, 118, 121, 123, 125, 127, 128, 132, 133, 135, 136, 137, 139, 140, 146, 148, 155, 164, 171, 172, 174, 179, 180, 183, 184, 185, 188, 189, 191, 192, 193, 194, 195, 198, 202, 206, ...], 'Married-spouse-absent': [6, 61, 175, 348, 364, 432, 463, 483, 485, 510, 624, 668, 766, 806, 929, 1029, 1092, 1341, 1480, 1510, 1770, 1785, 1789, 1865, 1937, 1975, 1997, 2009, 2049, 2107, 2311, 2327, 2336, 2383, 2501, 2542, 2549, 2581, 2591, 2651, 2682, 2890, 2926, 3064, 3178, 3187, 3195, 3196, 3236, 3347, 3350, 3387, 3423, 3581, 3993, 4163, 4252, 4340, 4381, 4485, 4598, 4633, 4698, 4830, 4927, 4979, 5065, 5105, 5109, 5241, 5344, 5402, 5435, 5463, 5481, 5559, 5626, 5636, 5678, 5841, 5870, 5936, 6029, 6057, 6120, 6161, 6241, 6319, 6460, 6590, 6601, 6630, 6717, 6868, 6884, 6898, 6920, 7007, 7234, 7279, ...], 'Never-married': [0, 8, 12, 13, 16, 17, 26, 30, 31, 35, 36, 44, 49, 51, 69, 70, 73, 75, 78, 80, 88, 89, 95, 99, 102, 103, 104, 106, 107, 108, 110, 114, 119, 120, 122, 124, 126, 130, 131, 138, 141, 142, 143, 144, 145, 151, 152, 153, 156, 161, 163, 166, 168, 170, 173, 176, 177, 178, 182, 197, 199, 200, 201, 203, 205, 209, 212, 215, 219, 222, 224, 225, 232, 234, 236, 239, 243, 247, 253, 254, 256, 262, 266, 268, 271, 273, 277, 278, 280, 284, 288, 292, 293, 294, 298, 301, 306, 307, 310, 312, ...], 'Separated': [21, 43, 71, 157, 159, 230, 257, 386, 392, 418, 508, 537, 551, 557, 567, 568, 608, 631, 645, 653, 683, 712, 715, 765, 771, 810, 827, 869, 1006, 1022, 1063, 1080, 1211, 1234, 1241, 1259, 1352, 1380, 1539, 1542, 1564, 1574, 1607, 1656, 1876, 1895, 1920, 1936, 1971, 2004, 2035, 2080, 2082, 2111, 2130, 2169, 2171, 2192, 2204, 2221, 2226, 2227, 2255, 2299, 2301, 2333, 2356, 2365, 2367, 2371, 2378, 2449, 2458, 2477, 2479, 2523, 2539, 2572, 2662, 2668, 2758, 2778, 2806, 2853, 2881, 2891, 2895, 2897, 2912, 2957, 3002, 3011, 3031, 3090, 3129, 3188, 3191, 3232, 3241, 3244, ...], 'Widowed': [147, 167, 169, 228, 252, 258, 319, 356, 430, 446, 511, 515, 536, 552, 621, 622, 656, 679, 701, 738, 823, 825, 826, 834, 839, 843, 850, 952, 969, 972, 978, 984, 989, 1017, 1034, 1127, 1142, 1161, 1215, 1223, 1242, 1245, 1262, 1263, 1291, 1320, 1327, 1367, 1410, 1451, 1455, 1458, 1562, 1579, 1707, 1710, 1745, 1749, 1777, 1801, 1813, 1831, 1891, 1894, 1901, 1957, 2041, 2067, 2118, 2140, 2141, 2142, 2154, 2189, 2202, 2209, 2276, 2309, 2310, 2315, 2326, 2421, 2505, 2540, 2543, 2594, 2615, 2646, 2657, 2669, 2679, 2715, 2785, 2790, 2793, 2807, 2811, 2884, 2885, 2906, ...]}"
      ]
     },
     "execution_count": 70,
     "metadata": {},
     "output_type": "execute_result"
    }
   ],
   "source": [
    "grouped_by_marital_status = income_data.groupby(\"marital_status\")\n",
    "grouped_by_marital_status.groups"
   ]
  },
  {
   "cell_type": "code",
   "execution_count": 92,
   "metadata": {
    "deletable": false,
    "nbgrader": {
     "checksum": "3f7c991513f38ee3e685493f9196a269",
     "grade": false,
     "grade_id": "cell-1e91969a128f0bd6",
     "locked": false,
     "schema_version": 1,
     "solution": true
    }
   },
   "outputs": [
    {
     "data": {
      "image/png": "[encoded data removed]",
      "text/plain": [
       "<Figure size 432x288 with 1 Axes>"
      ]
     },
     "metadata": {},
     "output_type": "display_data"
    }
   ],
   "source": [
    "# YOUR CODE HERE\n",
    "grouped_by_marital_status = income_data.groupby(\"marital_status\")\n",
    "\n",
    "labels = []\n",
    "values = []\n",
    "for key, value in grouped_by_marital_status:\n",
    "    labels.append(key)\n",
    "    values.append(value.count())\n",
    "\n",
    "# labels = income_data.marital_status.unique()\n",
    "\n",
    "plt.pie(count_values, labels = labels, autopct = \"%.1f%%\")\n",
    "# plt.gca().set_aspect(\"equal\")\n",
    "plt.axis(\"equal\")\n",
    "plt.show()"
   ]
  },
  {
   "cell_type": "markdown",
   "metadata": {},
   "source": [
    "### Problem 4. Marital status (2 points)\n",
    "Which type of marital status is the most prominent (i.e. has the most people)? How many are there? Write a function that **calculates and returns the two answers**. "
   ]
  },
  {
   "cell_type": "code",
   "execution_count": 93,
   "metadata": {
    "deletable": false,
    "nbgrader": {
     "checksum": "e9966cb2920b04c4df332da313f4e508",
     "grade": false,
     "grade_id": "cell-5c9a472102a7b452",
     "locked": false,
     "schema_version": 1,
     "solution": true
    }
   },
   "outputs": [
    {
     "data": {
      "text/plain": [
       "('Married-civ-spouse', 14976)"
      ]
     },
     "execution_count": 93,
     "metadata": {},
     "output_type": "execute_result"
    }
   ],
   "source": [
    "def most_prominent_marital_status(dataframe):\n",
    "    status = \"\"\n",
    "    num_people = 0\n",
    "    # YOUR CODE HERE\n",
    "    grouped_by_marital_status = dataframe.groupby(\"marital_status\")\n",
    "    for key, value in grouped_by_marital_status:\n",
    "        if len(value) > num_people:\n",
    "            num_people = len(value)\n",
    "            status = key\n",
    "    return (status, num_people)\n",
    "\n",
    "most_prominent_marital_status(income_data)"
   ]
  },
  {
   "cell_type": "code",
   "execution_count": 94,
   "metadata": {
    "deletable": false,
    "editable": false,
    "nbgrader": {
     "checksum": "a2ef87117dcbc8db2d43cf9e9883c695",
     "grade": true,
     "grade_id": "cell-0077a3c8d4339ad7",
     "locked": true,
     "points": 2,
     "schema_version": 1,
     "solution": false
    }
   },
   "outputs": [],
   "source": [
    "(status, num_people) = most_prominent_marital_status(income_data)\n",
    "nose.tools.assert_not_equal(status, \"\")\n",
    "nose.tools.assert_greater(num_people, 10000)"
   ]
  },
  {
   "cell_type": "markdown",
   "metadata": {},
   "source": [
    "### Problem 5. Age groups (1 point)\n",
    "Create a histogram of all people's ages. Use the default settings. Add the label \"Age\" on the x-axis and \"Count\" on the y-axis."
   ]
  },
  {
   "cell_type": "code",
   "execution_count": 97,
   "metadata": {
    "deletable": false,
    "nbgrader": {
     "checksum": "60c6510ffb115c08ab7fed3b29a27465",
     "grade": false,
     "grade_id": "cell-3ba52bf669280861",
     "locked": false,
     "schema_version": 1,
     "solution": true
    }
   },
   "outputs": [
    {
     "data": {
      "image/png": "[encoded data removed]",
      "text/plain": [
       "<Figure size 432x288 with 1 Axes>"
      ]
     },
     "metadata": {
      "needs_background": "light"
     },
     "output_type": "display_data"
    }
   ],
   "source": [
    "# YOUR CODE HERE\n",
    "plt.hist(income_data.age)\n",
    "plt.title(\"Age distribution\")\n",
    "plt.xlabel(\"Age\")\n",
    "plt.ylabel(\"Count\")\n",
    "plt.xlim(0, 100)\n",
    "plt.ylim(0)\n",
    "plt.show()"
   ]
  },
  {
   "cell_type": "markdown",
   "metadata": {},
   "source": [
    "Let's get another view of the data. Split the ages into three:\n",
    "1. Young people: $\\text{age} \\le 30$\n",
    "2. Middle-aged people: $30 < \\text{age} \\le 60$\n",
    "3. Old people: $60 < \\text{age}$\n",
    "\n",
    "Return the counts in the following function. Which age group has the most people? How many are there?"
   ]
  },
  {
   "cell_type": "code",
   "execution_count": 98,
   "metadata": {
    "deletable": false,
    "nbgrader": {
     "checksum": "03420d0fea2b98e57aa98b9b5f483b86",
     "grade": false,
     "grade_id": "cell-b8a6cda122bf0fb3",
     "locked": false,
     "schema_version": 1,
     "solution": true
    }
   },
   "outputs": [],
   "source": [
    "def get_num_people_by_age_category(dataframe):\n",
    "    young, middle_aged, old = (0, 0, 0)\n",
    "    # YOUR CODE HERE\n",
    "    young = dataframe[dataframe.age <= 30].age.count()\n",
    "    middle_aged = dataframe[(dataframe.age > 30) & (dataframe.age <= 60)].age.count()\n",
    "    old = dataframe[dataframe.age > 60].age.count()\n",
    "    return young, middle_aged, old"
   ]
  },
  {
   "cell_type": "code",
   "execution_count": 99,
   "metadata": {
    "deletable": false,
    "editable": false,
    "nbgrader": {
     "checksum": "79117a39e1c6066eece95309ce45dc81",
     "grade": true,
     "grade_id": "cell-17898d5f42dd42d5",
     "locked": true,
     "points": 1,
     "schema_version": 1,
     "solution": false
    }
   },
   "outputs": [],
   "source": [
    "young, middle_aged, old = get_num_people_by_age_category(income_data)\n",
    "nose.tools.assert_greater(young, 0)\n",
    "nose.tools.assert_greater(middle_aged, 0)\n",
    "nose.tools.assert_greater(old, 0)"
   ]
  },
  {
   "cell_type": "markdown",
   "metadata": {},
   "source": [
    "Now we can create a bar chart. Execute the code below to see it."
   ]
  },
  {
   "cell_type": "code",
   "execution_count": 100,
   "metadata": {},
   "outputs": [
    {
     "data": {
      "image/png": "[encoded data removed]",
      "text/plain": [
       "<Figure size 432x288 with 1 Axes>"
      ]
     },
     "metadata": {
      "needs_background": "light"
     },
     "output_type": "display_data"
    }
   ],
   "source": [
    "plt.title(\"Distribution of people by age groups\")\n",
    "plt.bar(range(3), [young, middle_aged, old])\n",
    "plt.xticks(range(3), [\"Young\", \"Middle-aged\", \"Old\"])\n",
    "plt.ylabel(\"Count\")\n",
    "plt.show()"
   ]
  },
  {
   "cell_type": "markdown",
   "metadata": {},
   "source": [
    "### Problem 6. Native country (2 points)\n",
    "Have a look at the native country of the people. The highest number of people are, as expected, from the US. What country makes for **the second highest** number of people? How many are they? Write a function to **calculate** and return the answer given a dataframe. DO NOT hardcode the answer, e.g. `return \"Germany\"`."
   ]
  },
  {
   "cell_type": "code",
   "execution_count": 205,
   "metadata": {},
   "outputs": [
    {
     "name": "stdout",
     "output_type": "stream",
     "text": [
      "United-States                 29170\n",
      "Mexico                          643\n",
      "?                               583\n",
      "Philippines                     198\n",
      "Germany                         137\n",
      "Canada                          121\n",
      "Puerto-Rico                     114\n",
      "El-Salvador                     106\n",
      "India                           100\n",
      "Cuba                             95\n",
      "England                          90\n",
      "Jamaica                          81\n",
      "South                            80\n",
      "China                            75\n",
      "Italy                            73\n",
      "Dominican-Republic               70\n",
      "Vietnam                          67\n",
      "Guatemala                        64\n",
      "Japan                            62\n",
      "Poland                           60\n",
      "Columbia                         59\n",
      "Taiwan                           51\n",
      "Haiti                            44\n",
      "Iran                             43\n",
      "Portugal                         37\n",
      "Nicaragua                        34\n",
      "Peru                             31\n",
      "France                           29\n",
      "Greece                           29\n",
      "Ecuador                          28\n",
      "Ireland                          24\n",
      "Hong                             20\n",
      "Cambodia                         19\n",
      "Trinadad&Tobago                  19\n",
      "Laos                             18\n",
      "Thailand                         18\n",
      "Yugoslavia                       16\n",
      "Outlying-US(Guam-USVI-etc)       14\n",
      "Honduras                         13\n",
      "Hungary                          13\n",
      "Scotland                         12\n",
      "Holand-Netherlands                1\n",
      "Name: native_country, dtype: int64\n",
      "\n",
      "\n",
      "False\n",
      "\n",
      "\n",
      "United-States                 29170\n",
      "Mexico                          643\n",
      "Philippines                     198\n",
      "Germany                         137\n",
      "Canada                          121\n",
      "Puerto-Rico                     114\n",
      "El-Salvador                     106\n",
      "India                           100\n",
      "Cuba                             95\n",
      "England                          90\n",
      "Jamaica                          81\n",
      "South                            80\n",
      "China                            75\n",
      "Italy                            73\n",
      "Dominican-Republic               70\n",
      "Vietnam                          67\n",
      "Guatemala                        64\n",
      "Japan                            62\n",
      "Poland                           60\n",
      "Columbia                         59\n",
      "Taiwan                           51\n",
      "Haiti                            44\n",
      "Iran                             43\n",
      "Portugal                         37\n",
      "Nicaragua                        34\n",
      "Peru                             31\n",
      "France                           29\n",
      "Greece                           29\n",
      "Ecuador                          28\n",
      "Ireland                          24\n",
      "Hong                             20\n",
      "Cambodia                         19\n",
      "Trinadad&Tobago                  19\n",
      "Thailand                         18\n",
      "Laos                             18\n",
      "Yugoslavia                       16\n",
      "Outlying-US(Guam-USVI-etc)       14\n",
      "Honduras                         13\n",
      "Hungary                          13\n",
      "Scotland                         12\n",
      "Holand-Netherlands                1\n",
      "Name: native_country, dtype: int64\n"
     ]
    }
   ],
   "source": [
    "countries_ordered_people = income_data['native_country'].value_counts();\n",
    "\n",
    "print(countries_ordered_people)\n",
    "\n",
    "# index_second_country = countries_ordered_people.index[2]\n",
    "\n",
    "income_data_no_questionmark = income_data\n",
    "\n",
    "(income_data_no_questionmark.native_country.values == '?')\n",
    "\n",
    "income_data_no_questionmark = income_data_no_questionmark.drop(income_data_no_questionmark[income_data_no_questionmark.native_country.values == '?'].index)\n",
    "\n",
    "stillCointainsQMark = True in income_data_no_questionmark.native_country.values == '?'\n",
    "\n",
    "print(\"\\n\")\n",
    "\n",
    "print(stillCointainsQMark)\n",
    "\n",
    "print(\"\\n\")\n",
    "\n",
    "print(income_data_no_questionmark.native_country.value_counts())\n"
   ]
  },
  {
   "cell_type": "code",
   "execution_count": 200,
   "metadata": {
    "deletable": false,
    "nbgrader": {
     "checksum": "f48b741de66aedff2d878c5bcaf010cf",
     "grade": false,
     "grade_id": "cell-96faf6efe52dd3d0",
     "locked": false,
     "schema_version": 1,
     "solution": true
    }
   },
   "outputs": [
    {
     "data": {
      "text/plain": [
       "(643, 'Mexico')"
      ]
     },
     "execution_count": 200,
     "metadata": {},
     "output_type": "execute_result"
    }
   ],
   "source": [
    "def get_second_highest_num_people(dataframe):\n",
    "    num_people, country = 0, \"\"\n",
    "    # YOUR CODE HERE\n",
    "    income_data_no_questionmark = dataframe\n",
    "    income_data_no_questionmark = income_data_no_questionmark.drop(income_data_no_questionmark[income_data_no_questionmark.native_country.values == '?'].index)\n",
    "    \n",
    "    countries_ordered_people = income_data_no_questionmark['native_country'].value_counts();\n",
    "    #     print(countries_ordered_people)\n",
    "    \n",
    "    index_second_country=1\n",
    "    num_people = countries_ordered_people[index_second_country]\n",
    "    country = countries_ordered_people.index[index_second_country]\n",
    "    \n",
    "    return num_people, country\n",
    "\n",
    "get_second_highest_num_people(income_data)"
   ]
  },
  {
   "cell_type": "code",
   "execution_count": 206,
   "metadata": {
    "deletable": false,
    "editable": false,
    "nbgrader": {
     "checksum": "d5981b1108063667383480f69588bdf6",
     "grade": true,
     "grade_id": "cell-923d941301d6acc8",
     "locked": true,
     "points": 2,
     "schema_version": 1,
     "solution": false
    }
   },
   "outputs": [],
   "source": [
    "num_people, country = get_second_highest_num_people(income_data)\n",
    "nose.tools.assert_greater(num_people, 0)\n",
    "nose.tools.assert_not_equal(country, \"\")"
   ]
  },
  {
   "cell_type": "markdown",
   "metadata": {},
   "source": [
    "### Problem 7. Busiest occupations (2 points)\n",
    "Which people are most overworked? Group all data by occupation and calculate the mean hours per week for each group.\n",
    "\n",
    "Write a function that **calculates and returns** all mean hours per week as a `Series`. Sort the results in descending order (most hours to fewest hours)."
   ]
  },
  {
   "cell_type": "code",
   "execution_count": 215,
   "metadata": {},
   "outputs": [
    {
     "data": {
      "text/plain": [
       "{'?': [27, 61, 69, 77, 106, 128, 149, 154, 160, 187, 201, 221, 226, 243, 266, 297, 312, 326, 346, 347, 354, 397, 408, 430, 431, 449, 459, 471, 484, 486, 499, 511, 515, 517, 518, 539, 576, 580, 590, 591, 596, 648, 656, 668, 671, 686, 695, 734, 788, 789, 792, 806, 811, 830, 834, 885, 890, 903, 924, 931, 969, 982, 1019, 1034, 1035, 1039, 1046, 1097, 1100, 1131, 1134, 1152, 1167, 1175, 1180, 1185, 1208, 1215, 1217, 1262, 1282, 1290, 1312, 1317, 1325, 1347, 1349, 1371, 1388, 1404, 1420, 1433, 1441, 1452, 1458, 1504, 1544, 1562, 1569, 1570, ...], 'Adm-clerical': [0, 12, 33, 37, 43, 58, 66, 67, 76, 108, 126, 127, 137, 150, 151, 181, 184, 185, 204, 223, 228, 229, 232, 236, 245, 246, 249, 251, 253, 300, 304, 305, 308, 331, 333, 355, 358, 370, 375, 387, 388, 406, 438, 439, 441, 465, 485, 491, 495, 502, 508, 516, 527, 552, 557, 586, 594, 601, 605, 633, 646, 655, 677, 684, 711, 714, 731, 732, 747, 758, 761, 776, 785, 803, 813, 820, 823, 828, 831, 836, 851, 856, 860, 877, 879, 881, 892, 923, 933, 946, 980, 981, 987, 993, 1005, 1028, 1030, 1042, 1052, 1074, ...], 'Armed-Forces': [442, 1300, 14613, 16111, 18034, 18644, 18769, 25799, 32316], 'Craft-repair': [14, 26, 29, 48, 65, 84, 91, 104, 105, 117, 119, 129, 132, 136, 139, 140, 148, 153, 155, 158, 173, 176, 182, 192, 196, 207, 211, 213, 219, 233, 244, 259, 264, 269, 276, 281, 289, 298, 321, 324, 330, 336, 341, 359, 365, 374, 376, 381, 382, 391, 392, 407, 415, 424, 434, 444, 447, 451, 452, 463, 472, 475, 480, 481, 483, 494, 512, 514, 528, 537, 549, 554, 568, 570, 573, 579, 582, 588, 606, 607, 611, 632, 634, 640, 641, 644, 647, 657, 658, 667, 678, 681, 682, 703, 708, 721, 735, 748, 752, 755, ...], 'Exec-managerial': [1, 5, 7, 9, 10, 19, 28, 32, 47, 50, 53, 54, 68, 98, 100, 101, 121, 122, 125, 152, 162, 163, 166, 180, 186, 197, 202, 215, 237, 238, 258, 265, 267, 270, 277, 288, 311, 320, 323, 350, 352, 363, 368, 378, 393, 398, 399, 405, 409, 412, 413, 422, 428, 446, 453, 456, 468, 492, 505, 507, 520, 521, 526, 533, 550, 566, 569, 575, 608, 617, 628, 637, 651, 653, 670, 673, 679, 683, 685, 688, 705, 719, 723, 724, 729, 742, 750, 763, 782, 783, 799, 812, 824, 833, 838, 847, 859, 862, 863, 870, ...], 'Farming-fishing': [16, 22, 79, 227, 255, 272, 309, 325, 343, 423, 436, 460, 500, 538, 604, 625, 672, 690, 759, 770, 771, 786, 802, 814, 839, 861, 868, 894, 912, 949, 983, 1082, 1155, 1172, 1227, 1283, 1355, 1377, 1426, 1485, 1523, 1566, 1576, 1584, 1633, 1757, 1777, 1837, 1887, 1890, 1901, 1940, 1978, 2002, 2005, 2042, 2071, 2078, 2108, 2183, 2200, 2256, 2328, 2342, 2353, 2387, 2413, 2416, 2429, 2551, 2555, 2568, 2678, 2698, 2754, 2810, 2850, 2920, 2939, 2959, 2963, 2970, 2983, 2993, 3018, 3048, 3085, 3092, 3101, 3117, 3118, 3136, 3196, 3216, 3225, 3282, 3287, 3312, 3326, 3350, ...], 'Handlers-cleaners': [2, 3, 44, 95, 107, 109, 115, 156, 168, 177, 220, 275, 284, 328, 396, 400, 404, 411, 421, 427, 477, 510, 522, 542, 545, 548, 563, 565, 612, 615, 624, 636, 642, 660, 702, 744, 754, 832, 866, 876, 902, 908, 979, 1015, 1107, 1114, 1127, 1159, 1249, 1294, 1314, 1326, 1369, 1383, 1398, 1421, 1474, 1494, 1525, 1551, 1560, 1573, 1650, 1664, 1697, 1702, 1766, 1789, 1797, 1815, 1820, 1850, 1852, 1927, 1979, 1991, 2027, 2058, 2193, 2212, 2242, 2248, 2290, 2307, 2347, 2363, 2369, 2392, 2393, 2446, 2479, 2492, 2515, 2595, 2604, 2619, 2628, 2666, 2670, 2706, ...], 'Machine-op-inspct': [17, 35, 36, 40, 46, 56, 59, 73, 92, 114, 183, 190, 191, 214, 224, 279, 315, 317, 372, 373, 386, 414, 416, 418, 448, 450, 455, 496, 524, 530, 531, 553, 555, 556, 583, 654, 659, 669, 691, 716, 769, 781, 787, 796, 797, 827, 835, 864, 880, 905, 906, 922, 925, 926, 930, 934, 941, 944, 961, 991, 998, 1006, 1010, 1012, 1024, 1041, 1050, 1061, 1096, 1101, 1115, 1130, 1147, 1198, 1209, 1305, 1306, 1315, 1330, 1331, 1332, 1354, 1359, 1366, 1385, 1394, 1425, 1428, 1430, 1461, 1501, 1527, 1531, 1537, 1538, 1549, 1552, 1598, 1603, 1613, ...], 'Other-service': [6, 21, 34, 51, 57, 75, 78, 81, 82, 99, 112, 120, 124, 131, 142, 146, 147, 159, 161, 165, 170, 178, 206, 222, 235, 241, 247, 252, 256, 257, 262, 271, 287, 301, 319, 332, 335, 339, 348, 351, 356, 360, 371, 385, 389, 390, 394, 401, 410, 417, 433, 474, 476, 478, 479, 490, 497, 503, 509, 532, 546, 551, 559, 567, 587, 602, 603, 609, 614, 621, 630, 631, 635, 650, 676, 689, 706, 709, 715, 720, 727, 728, 730, 733, 738, 740, 760, 765, 766, 795, 801, 810, 815, 826, 846, 857, 874, 900, 919, 932, ...], 'Priv-house-serv': [536, 622, 929, 1038, 1990, 2065, 2124, 2136, 2154, 2169, 2730, 2906, 3361, 3622, 3746, 3771, 4007, 4158, 5035, 5578, 5739, 5842, 5963, 6360, 6393, 6583, 6773, 7315, 7466, 7748, 7982, 8203, 8310, 8452, 8477, 8649, 8846, 8884, 9043, 9441, 9806, 9839, 9853, 9993, 10008, 10023, 10176, 10180, 10556, 10854, 11143, 11180, 11403, 11527, 11558, 11575, 11623, 12270, 12571, 12607, 12846, 12926, 13084, 13091, 13101, 13240, 13330, 13542, 13850, 13893, 13897, 13956, 14393, 14502, 14849, 15016, 15193, 15483, 15617, 15667, 16354, 16361, 16497, 17082, 17141, 17195, 17255, 17310, 17707, 17735, 17810, 17869, 18104, 18168, 18589, 18721, 18757, 18786, 19123, 19268, ...], 'Prof-specialty': [4, 8, 11, 20, 39, 41, 45, 49, 52, 63, 70, 74, 87, 89, 90, 96, 102, 111, 123, 135, 143, 169, 174, 179, 188, 189, 198, 200, 203, 218, 234, 240, 250, 260, 268, 273, 274, 280, 283, 286, 290, 291, 307, 313, 327, 337, 349, 361, 426, 429, 432, 435, 440, 443, 462, 470, 482, 488, 493, 498, 513, 519, 529, 534, 541, 562, 564, 571, 574, 578, 589, 593, 597, 599, 610, 613, 619, 639, 645, 652, 662, 663, 665, 687, 692, 693, 696, 698, 700, 704, 710, 712, 722, 725, 737, 745, 749, 751, 757, 777, ...], 'Protective-serv': [30, 86, 94, 167, 171, 242, 292, 342, 344, 402, 437, 506, 547, 680, 762, 984, 1083, 1086, 1154, 1206, 1269, 1277, 1434, 1468, 1520, 1542, 1563, 1590, 1653, 1663, 1721, 1768, 1770, 1808, 1864, 1917, 1942, 1954, 2074, 2080, 2110, 2122, 2171, 2209, 2288, 2321, 2370, 2448, 2463, 2499, 2510, 2532, 2736, 2769, 2783, 2871, 2875, 2953, 3180, 3316, 3507, 3518, 3583, 3633, 3680, 3713, 3755, 3766, 3778, 3787, 3800, 3812, 3871, 3880, 3920, 3989, 4014, 4030, 4112, 4140, 4197, 4330, 4457, 4568, 4577, 4619, 4711, 4763, 4852, 4865, 5009, 5040, 5082, 5099, 5138, 5238, 5253, 5274, 5280, 5318, ...], 'Sales': [13, 18, 31, 38, 60, 71, 72, 80, 83, 85, 88, 93, 97, 110, 113, 116, 118, 130, 133, 138, 141, 157, 164, 172, 175, 199, 205, 208, 209, 212, 216, 217, 225, 231, 261, 263, 282, 285, 293, 296, 299, 303, 310, 314, 316, 338, 340, 345, 364, 366, 367, 369, 377, 379, 383, 420, 445, 454, 489, 504, 525, 544, 561, 572, 577, 581, 585, 595, 618, 620, 626, 627, 629, 643, 661, 664, 674, 675, 699, 701, 707, 718, 726, 736, 764, 767, 768, 774, 778, 784, 793, 804, 829, 840, 852, 865, 867, 872, 873, 883, ...], 'Tech-support': [24, 25, 42, 55, 64, 103, 134, 144, 193, 194, 248, 278, 294, 306, 318, 357, 395, 403, 464, 469, 523, 535, 558, 584, 598, 600, 649, 694, 697, 713, 717, 739, 743, 773, 775, 779, 790, 791, 798, 822, 889, 899, 909, 971, 1016, 1044, 1069, 1120, 1121, 1123, 1163, 1193, 1273, 1297, 1338, 1357, 1390, 1401, 1577, 1604, 1769, 1790, 1881, 1922, 1933, 2028, 2115, 2123, 2141, 2225, 2236, 2238, 2302, 2338, 2346, 2434, 2438, 2470, 2472, 2602, 2630, 2631, 2679, 2683, 2705, 2710, 2774, 2899, 2917, 2943, 3006, 3007, 3091, 3115, 3266, 3295, 3317, 3321, 3331, 3373, ...], 'Transport-moving': [15, 23, 62, 145, 195, 210, 230, 239, 254, 295, 302, 322, 329, 334, 353, 362, 380, 384, 419, 425, 457, 458, 461, 466, 467, 473, 487, 501, 540, 543, 560, 592, 616, 623, 638, 666, 741, 746, 753, 756, 794, 809, 818, 819, 825, 855, 871, 878, 921, 957, 964, 974, 1011, 1056, 1067, 1085, 1109, 1117, 1126, 1158, 1161, 1169, 1192, 1224, 1254, 1261, 1278, 1285, 1292, 1302, 1323, 1376, 1395, 1396, 1399, 1408, 1409, 1429, 1435, 1445, 1451, 1457, 1463, 1470, 1533, 1555, 1558, 1619, 1679, 1684, 1719, 1739, 1751, 1812, 1824, 1829, 1841, 1844, 1845, 1854, ...]}"
      ]
     },
     "execution_count": 215,
     "metadata": {},
     "output_type": "execute_result"
    }
   ],
   "source": [
    "grouped_by_occupation = income_data.groupby(\"occupation\")\n",
    "grouped_by_occupation.groups"
   ]
  },
  {
   "cell_type": "code",
   "execution_count": 216,
   "metadata": {
    "deletable": false,
    "nbgrader": {
     "checksum": "8800a118285464a703ef223c058dc869",
     "grade": false,
     "grade_id": "cell-f93bf9800cb3bc46",
     "locked": false,
     "schema_version": 1,
     "solution": true
    }
   },
   "outputs": [],
   "source": [
    "def get_mean_working_hours_by_income(dataframe):\n",
    "    # YOUR CODE HERE\n",
    "    grouped_by_occupation = income_data.groupby(\"occupation\")\n",
    "    means = grouped_by_occupation.hours_weekly.mean()\n",
    "    return means.sort_values(ascending = False)"
   ]
  },
  {
   "cell_type": "code",
   "execution_count": 217,
   "metadata": {
    "deletable": false,
    "editable": false,
    "nbgrader": {
     "checksum": "95d5a2c122057fb62658d0d3602436bc",
     "grade": true,
     "grade_id": "cell-69cd7b7f6076b0ed",
     "locked": true,
     "points": 2,
     "schema_version": 1,
     "solution": false
    }
   },
   "outputs": [
    {
     "name": "stdout",
     "output_type": "stream",
     "text": [
      "occupation\n",
      "Farming-fishing      46.989940\n",
      "Exec-managerial      44.987703\n",
      "Transport-moving     44.656230\n",
      "Protective-serv      42.870570\n",
      "Prof-specialty       42.386715\n",
      "Craft-repair         42.304221\n",
      "Sales                40.781096\n",
      "Machine-op-inspct    40.755744\n",
      "Armed-Forces         40.666667\n",
      "Tech-support         39.432112\n",
      "Handlers-cleaners    37.947445\n",
      "Adm-clerical         37.558355\n",
      "Other-service        34.701669\n",
      "Priv-house-serv      32.885906\n",
      "?                    31.906131\n",
      "Name: hours_weekly, dtype: float64\n"
     ]
    }
   ],
   "source": [
    "hours = get_mean_working_hours_by_income(income_data)\n",
    "print(hours)\n",
    "nose.tools.assert_almost_equal(hours[\"Handlers-cleaners\"], 37.95, delta = 0.01)"
   ]
  },
  {
   "cell_type": "markdown",
   "metadata": {},
   "source": [
    "Finally, let's plot a bar chart. Check the values carefully. If your do not match, feel free to edit the chart generation code below."
   ]
  },
  {
   "cell_type": "code",
   "execution_count": 219,
   "metadata": {},
   "outputs": [
    {
     "data": {
      "image/png": "[encoded data removed]",
      "text/plain": [
       "<Figure size 720x432 with 1 Axes>"
      ]
     },
     "metadata": {
      "needs_background": "light"
     },
     "output_type": "display_data"
    }
   ],
   "source": [
    "plt.figure(figsize = (10, 6))\n",
    "plt.title(\"Weekly hours by occupation\")\n",
    "plt.barh(range(len(hours)), hours)\n",
    "plt.yticks(list(range(len(hours))), hours.index)\n",
    "plt.xlabel(\"Hour\")\n",
    "plt.show()"
   ]
  },
  {
   "cell_type": "code",
   "execution_count": null,
   "metadata": {},
   "outputs": [],
   "source": []
  }
 ],
 "metadata": {
  "kernelspec": {
   "display_name": "Python 3",
   "language": "python",
   "name": "python3"
  },
  "language_info": {
   "codemirror_mode": {
    "name": "ipython",
    "version": 3
   },
   "file_extension": ".py",
   "mimetype": "text/x-python",
   "name": "python",
   "nbconvert_exporter": "python",
   "pygments_lexer": "ipython3",
   "version": "3.8.5"
  },
  "toc": {
   "base_numbering": 1,
   "nav_menu": {},
   "number_sections": true,
   "sideBar": true,
   "skip_h1_title": false,
   "title_cell": "Table of Contents",
   "title_sidebar": "Contents",
   "toc_cell": false,
   "toc_position": {},
   "toc_section_display": true,
   "toc_window_display": false
  }
 },
 "nbformat": 4,
 "nbformat_minor": 2
}
